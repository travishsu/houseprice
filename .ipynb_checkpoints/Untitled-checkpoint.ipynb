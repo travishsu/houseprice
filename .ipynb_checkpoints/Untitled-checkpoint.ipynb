{
 "cells": [
  {
   "cell_type": "code",
   "execution_count": 1,
   "metadata": {
    "collapsed": false
   },
   "outputs": [
    {
     "name": "stdout",
     "output_type": "stream",
     "text": [
      "Populating the interactive namespace from numpy and matplotlib\n"
     ]
    }
   ],
   "source": [
    "%pylab inline\n",
    "import pandas as pd\n",
    "import string\n",
    "import os"
   ]
  },
  {
   "cell_type": "code",
   "execution_count": 56,
   "metadata": {
    "collapsed": false
   },
   "outputs": [
    {
     "name": "stderr",
     "output_type": "stream",
     "text": [
      "Skipping line 213: expected 28 fields, saw 29\n",
      "\n"
     ]
    }
   ],
   "source": [
    "di    = ['0501','0516','0601','0615']\n",
    "region = string.uppercase\n",
    "ty     = string.uppercase[:1]\n",
    "data = []\n",
    "for dd in di:\n",
    "    for r in region:\n",
    "        for t in ty:\n",
    "            filename = \"2016\"+dd+\"_opendata/\"+r+\"_lvr_land_\"+t+\".CSV\"\n",
    "            if os.path.exists(filename):\n",
    "                if os.stat(filename).st_size > 0:\n",
    "                    try:\n",
    "                        d = pd.read_csv(filename, encoding='big5', error_bad_lines=False)\n",
    "                        d['Region'] = r\n",
    "                        data.append(d)\n",
    "                    except UnicodeDecodeError or OSError or CParserError:\n",
    "                        pass\n",
    "                    \n",
    "region_dict = { \"C\": u\"基隆市\",\n",
    "                \"A\": u\"臺北市\",\n",
    "                \"F\": u\"新北市\",\n",
    "                \"H\": u\"桃園縣\",\n",
    "                \"O\": u\"新竹市\",\n",
    "                \"J\": u\"新竹縣\",\n",
    "                \"K\": u\"苗栗縣\",\n",
    "                \"B\": u\"臺中市\",\n",
    "                \"M\": u\"南投縣\",\n",
    "                \"N\": u\"彰化縣\",\n",
    "                \"P\": u\"雲林縣\",\n",
    "                \"I\": u\"嘉義市\",\n",
    "                \"Q\": u\"嘉義縣\",\n",
    "                \"D\": u\"臺南市\",\n",
    "                \"E\": u\"高雄市\",\n",
    "                \"T\": u\"屏東縣\",\n",
    "                \"G\": u\"宜蘭縣\",\n",
    "                \"U\": u\"花蓮縣\",\n",
    "                \"V\": u\"臺東縣\",\n",
    "                \"X\": u\"澎湖縣\",\n",
    "                \"W\": u\"金門縣\",\n",
    "                \"Z\": u\"連江縣\"}\n",
    "\n",
    "data = pd.concat(data).reset_index()"
   ]
  },
  {
   "cell_type": "code",
   "execution_count": 57,
   "metadata": {
    "collapsed": false
   },
   "outputs": [],
   "source": [
    "data['RegionCN']     = pd.Series(data.Region.apply(lambda x: region_dict[x]), index = data.index)\n",
    "data[u'交易年月日'] = pd.Series(data[u'交易年月日'].apply(lambda x: str(int(x))), index=data.index)\n",
    "data['Year']       = pd.Series(data[u'交易年月日'].apply(lambda x: int(x[:3])), index=data.index)\n",
    "data['Month']      = pd.Series(data[u'交易年月日'].apply(lambda x: int(x[3:5])), index=data.index)\n",
    "data['Day']        = pd.Series(data[u'交易年月日'].apply(lambda x: int(x[5:7])), index=data.index)\n",
    "\n",
    "data = data[data.Month < 13]\n",
    "\n",
    "data = data[data[u'單價每平方公尺']>0]"
   ]
  },
  {
   "cell_type": "code",
   "execution_count": 58,
   "metadata": {
    "collapsed": false
   },
   "outputs": [],
   "source": [
    "changhua = data[data['RegionCN']==u'彰化縣']\n",
    "changhua = changhua[changhua[u'單價每平方公尺']>0]"
   ]
  },
  {
   "cell_type": "code",
   "execution_count": 59,
   "metadata": {
    "collapsed": false
   },
   "outputs": [],
   "source": [
    "tianzhong = changhua[changhua[u'鄉鎮市區']==u'田中鎮']"
   ]
  },
  {
   "cell_type": "code",
   "execution_count": 69,
   "metadata": {
    "collapsed": false
   },
   "outputs": [
    {
     "data": {
      "text/plain": [
       "<matplotlib.axes._subplots.AxesSubplot at 0x10b0e2a10>"
      ]
     },
     "execution_count": 69,
     "metadata": {},
     "output_type": "execute_result"
    },
    {
     "data": {
      "image/png": "[encoded data removed]",
      "text/plain": [
       "<matplotlib.figure.Figure at 0x10b1518d0>"
      ]
     },
     "metadata": {},
     "output_type": "display_data"
    }
   ],
   "source": [
    "data.groupby(['Month']).mean()[u'單價每平方公尺'].plot.bar()"
   ]
  },
  {
   "cell_type": "code",
   "execution_count": 65,
   "metadata": {
    "collapsed": false
   },
   "outputs": [
    {
     "data": {
      "text/plain": [
       "<matplotlib.axes._subplots.AxesSubplot at 0x10a50a550>"
      ]
     },
     "execution_count": 65,
     "metadata": {},
     "output_type": "execute_result"
    },
    {
     "data": {
      "image/png": "[encoded data removed]",
      "text/plain": [
       "<matplotlib.figure.Figure at 0x10a60e310>"
      ]
     },
     "metadata": {},
     "output_type": "display_data"
    }
   ],
   "source": [
    "data.groupby('Year').mean()[u'單價每平方公尺'].plot()"
   ]
  },
  {
   "cell_type": "code",
   "execution_count": 72,
   "metadata": {
    "collapsed": false
   },
   "outputs": [
    {
     "data": {
      "text/plain": [
       "<matplotlib.axes._subplots.AxesSubplot at 0x10b353b90>"
      ]
     },
     "execution_count": 72,
     "metadata": {},
     "output_type": "execute_result"
    },
    {
     "data": {
      "image/png": "[encoded data removed]",
      "text/plain": [
       "<matplotlib.figure.Figure at 0x10bcc1ed0>"
      ]
     },
     "metadata": {},
     "output_type": "display_data"
    }
   ],
   "source": [
    "taipei = data[data.Region=='A']\n",
    "taipei.groupby(['Year']).mean()[u'單價每平方公尺'].plot()"
   ]
  },
  {
   "cell_type": "code",
   "execution_count": 78,
   "metadata": {
    "collapsed": false
   },
   "outputs": [
    {
     "data": {
      "text/plain": [
       "RegionCN  Year\n",
       "南投縣       104      23895.166667\n",
       "          105      17780.757437\n",
       "嘉義市       104     154559.600000\n",
       "          105      37221.514469\n",
       "基隆市       100      59135.000000\n",
       "          101      48224.166667\n",
       "          102      56918.000000\n",
       "          104      56403.625000\n",
       "          105      52300.914122\n",
       "宜蘭縣       102       3599.000000\n",
       "          104      39187.222222\n",
       "          105      40797.640000\n",
       "彰化縣       104      43148.444444\n",
       "          105      28564.707975\n",
       "新竹市       101     136453.000000\n",
       "          102      83698.500000\n",
       "          103      54415.000000\n",
       "          104      63925.200000\n",
       "          105      63155.166320\n",
       "新竹縣       100      67826.000000\n",
       "          102      86545.500000\n",
       "          103      48694.000000\n",
       "          104      45418.727273\n",
       "          105      41231.952435\n",
       "桃園縣       101      56543.225806\n",
       "          102      51992.694000\n",
       "          103      92195.962617\n",
       "          104      51353.320896\n",
       "          105      48710.236143\n",
       "澎湖縣       105      27440.630137\n",
       "臺北市       100     244892.000000\n",
       "          101     391269.000000\n",
       "          102     533271.000000\n",
       "          103     259343.250000\n",
       "          104     153708.250000\n",
       "          105     177243.182927\n",
       "臺東縣       104      33208.500000\n",
       "          105      19331.291429\n",
       "花蓮縣       100      11844.000000\n",
       "          103      16868.000000\n",
       "          104      30501.500000\n",
       "          105      32635.830357\n",
       "苗栗縣       102      26053.750000\n",
       "          103      36229.562500\n",
       "          104      21362.764706\n",
       "          105      23234.923977\n",
       "連江縣       104        390.000000\n",
       "          105       7009.500000\n",
       "金門縣       102      46309.454545\n",
       "          105      41207.419355\n",
       "雲林縣       103      63669.250000\n",
       "          104      26469.142857\n",
       "          105      17766.738007\n",
       "Name: 單價每平方公尺, dtype: float64"
      ]
     },
     "execution_count": 78,
     "metadata": {},
     "output_type": "execute_result"
    }
   ],
   "source": [
    "data.groupby(['RegionCN','Year',])[u'單價每平方公尺'].mean()"
   ]
  },
  {
   "cell_type": "code",
   "execution_count": 45,
   "metadata": {
    "collapsed": false
   },
   "outputs": [
    {
     "data": {
      "text/plain": [
       "index                             0\n",
       "鄉鎮市區                            七堵區\n",
       "交易標的                             土地\n",
       "土地區段位置或建物區門牌                    inf\n",
       "土地移轉總面積平方公尺                       0\n",
       "都市土地使用分區                        inf\n",
       "非都市土地使用分區                       inf\n",
       "非都市土地使用編定                       inf\n",
       "交易年月日                       1000602\n",
       "交易筆棟數                     土地0建物0車位1\n",
       "移轉層次                            inf\n",
       "總樓層數                            inf\n",
       "建物型態                住宅大樓(11層含以上有電梯)\n",
       "主要用途                            inf\n",
       "主要建材                            inf\n",
       "建築完成年月                         3501\n",
       "建物移轉總面積平方公尺                       0\n",
       "建物現況格局-房                          0\n",
       "建物現況格局-廳                          0\n",
       "建物現況格局-衛                          0\n",
       "建物現況格局-隔間                         有\n",
       "有無管理組織                            有\n",
       "總價元                             264\n",
       "單價每平方公尺                           0\n",
       "車位類別                            inf\n",
       "車位移轉總面積平方公尺                       0\n",
       "車位總價元                             0\n",
       "備註                              inf\n",
       "編號              RPONNLKLOHLFFAH77CA\n",
       "Region                            A\n",
       "RegionCN                        南投縣\n",
       "Year                            100\n",
       "Month                             1\n",
       "Day                               1\n",
       "dtype: object"
      ]
     },
     "execution_count": 45,
     "metadata": {},
     "output_type": "execute_result"
    }
   ],
   "source": [
    "data.min()"
   ]
  },
  {
   "cell_type": "code",
   "execution_count": 82,
   "metadata": {
    "collapsed": false
   },
   "outputs": [
    {
     "data": {
      "text/plain": [
       "RegionCN  Year\n",
       "彰化縣       104     75328.500000\n",
       "          105     40919.873563\n",
       "Name: 單價每平方公尺, dtype: float64"
      ]
     },
     "execution_count": 82,
     "metadata": {},
     "output_type": "execute_result"
    }
   ],
   "source": [
    "data[data[u'鄉鎮市區']==u'員林鎮'].groupby(['RegionCN','Year',])[u'單價每平方公尺'].mean()"
   ]
  },
  {
   "cell_type": "code",
   "execution_count": null,
   "metadata": {
    "collapsed": true
   },
   "outputs": [],
   "source": []
  }
 ],
 "metadata": {
  "kernelspec": {
   "display_name": "Python 2",
   "language": "python",
   "name": "python2"
  },
  "language_info": {
   "codemirror_mode": {
    "name": "ipython",
    "version": 2
   },
   "file_extension": ".py",
   "mimetype": "text/x-python",
   "name": "python",
   "nbconvert_exporter": "python",
   "pygments_lexer": "ipython2",
   "version": "2.7.12"
  }
 },
 "nbformat": 4,
 "nbformat_minor": 0
}
